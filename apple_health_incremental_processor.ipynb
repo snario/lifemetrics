{
 "cells": [
  {
   "cell_type": "code",
   "execution_count": null,
   "metadata": {
    "execution": {
     "iopub.execute_input": "2020-10-17T12:57:35.228645Z",
     "iopub.status.busy": "2020-10-17T12:57:35.227595Z",
     "iopub.status.idle": "2020-10-17T12:57:35.247557Z",
     "shell.execute_reply": "2020-10-17T12:57:35.248248Z"
    }
   },
   "outputs": [],
   "source": [
    "from dotenv import load_dotenv\n",
    "load_dotenv()"
   ]
  },
  {
   "cell_type": "code",
   "execution_count": null,
   "metadata": {},
   "outputs": [],
   "source": [
    "import datetime as datetime\n",
    "import glob\n",
    "import os\n",
    "\n",
    "import pytz\n",
    "import numpy as np\n",
    "import pandas as pd\n",
    "\n",
    "from datetime import date, datetime, timedelta as td\n",
    "from sqlalchemy import create_engine"
   ]
  },
  {
   "cell_type": "code",
   "execution_count": null,
   "metadata": {},
   "outputs": [],
   "source": [
    "# functions to convert UTC to EST time zone and extract date/time elements\n",
    "convert_tz = lambda x: x.to_pydatetime().replace(hour=12,tzinfo=pytz.utc).astimezone(pytz.timezone('US/Eastern'))\n",
    "get_year = lambda x: convert_tz(x).year\n",
    "get_month = lambda x: '{}-{:02}'.format(convert_tz(x).year, convert_tz(x).month) #inefficient\n",
    "get_date = lambda x: '{}-{:02}-{:02}'.format(convert_tz(x).year, convert_tz(x).month, convert_tz(x).day) #inefficient"
   ]
  },
  {
   "cell_type": "markdown",
   "metadata": {},
   "source": [
    "## Connect to `sqlite` DB"
   ]
  },
  {
   "cell_type": "code",
   "execution_count": null,
   "metadata": {},
   "outputs": [],
   "source": [
    "db_path = os.path.abspath(os.getenv('DB_FILEPATH'))\n",
    "db_path"
   ]
  },
  {
   "cell_type": "code",
   "execution_count": null,
   "metadata": {},
   "outputs": [],
   "source": [
    "engine = create_engine(f'sqlite:///{db_path}', echo=False)\n",
    "engine"
   ]
  },
  {
   "cell_type": "markdown",
   "metadata": {},
   "source": [
    "## Read Data from Shortcuts App Export"
   ]
  },
  {
   "cell_type": "code",
   "execution_count": null,
   "metadata": {},
   "outputs": [],
   "source": [
    "list_of_exports = glob.glob(os.getenv('HEALTH_EXPORTS_DIR') + '/*.txt')\n",
    "latest_file = max(list_of_exports, key=os.path.getmtime)"
   ]
  },
  {
   "cell_type": "code",
   "execution_count": null,
   "metadata": {},
   "outputs": [],
   "source": [
    "data = pd.read_csv(latest_file, delimiter=';')\n",
    "data['date'] = pd.to_datetime(data['Date']).map(get_date)\n",
    "data = data.set_index('date')\n",
    "data.head(23)"
   ]
  },
  {
   "cell_type": "markdown",
   "metadata": {},
   "source": [
    "## Merge with New Data"
   ]
  },
  {
   "cell_type": "markdown",
   "metadata": {},
   "source": [
    "### Active Energy"
   ]
  },
  {
   "cell_type": "code",
   "execution_count": null,
   "metadata": {},
   "outputs": [],
   "source": [
    "activeEnergyDB = pd.read_sql_table(\n",
    "    'Energy',\n",
    "    con=engine,\n",
    "    index_col='date',\n",
    "    coerce_float=True,\n",
    "    columns=[\n",
    "        'date',\n",
    "        'value'\n",
    "    ],\n",
    "    parse_dates=[\n",
    "        'date',\n",
    "    ]\n",
    ") if engine.has_table('Energy') else pd.DataFrame(columns=['date', 'value']).set_index('date')\n",
    "activeEnergyDB"
   ]
  },
  {
   "cell_type": "code",
   "execution_count": null,
   "metadata": {},
   "outputs": [],
   "source": [
    "activeEnergy = data[['ActiveEnergy']]\n",
    "activeEnergy.columns = ['value']\n",
    "pd.concat(\n",
    "    [\n",
    "        activeEnergyDB[~activeEnergyDB.index.isin(activeEnergy.index)],\n",
    "        activeEnergy\n",
    "    ],\n",
    "    axis=0,\n",
    "    join='inner'\n",
    ").to_sql('Energy', con=engine, if_exists='replace')"
   ]
  },
  {
   "cell_type": "markdown",
   "metadata": {},
   "source": [
    "### Resting Energy"
   ]
  },
  {
   "cell_type": "code",
   "execution_count": null,
   "metadata": {},
   "outputs": [],
   "source": [
    "restingEnergyDB = pd.read_sql_table(\n",
    "    'RestingEnergy',\n",
    "    con=engine,\n",
    "    index_col='date',\n",
    "    coerce_float=True,\n",
    "    columns=[\n",
    "        'date',\n",
    "        'value'\n",
    "    ],\n",
    "    parse_dates=[\n",
    "        'date',\n",
    "    ]\n",
    ") if engine.has_table('RestingEnergy') else pd.DataFrame(columns=['date', 'value']).set_index('date')\n",
    "restingEnergyDB"
   ]
  },
  {
   "cell_type": "code",
   "execution_count": null,
   "metadata": {},
   "outputs": [],
   "source": [
    "restingEnergy = data[['RestingEnergy']]\n",
    "restingEnergy.columns = ['value']\n",
    "pd.concat(\n",
    "    [\n",
    "        restingEnergyDB[~restingEnergyDB.index.isin(restingEnergy.index)],\n",
    "        restingEnergy\n",
    "    ],\n",
    "    axis=0,\n",
    "    join='inner'\n",
    ").to_sql('RestingEnergy', con=engine, if_exists='replace')"
   ]
  },
  {
   "cell_type": "markdown",
   "metadata": {},
   "source": [
    "### RHR"
   ]
  },
  {
   "cell_type": "code",
   "execution_count": null,
   "metadata": {},
   "outputs": [],
   "source": [
    "rhrDB = pd.read_sql_table(\n",
    "    'RHR',\n",
    "    con=engine,\n",
    "    index_col='date',\n",
    "    coerce_float=True,\n",
    "    columns=[\n",
    "        'date',\n",
    "        'value'\n",
    "    ],\n",
    "    parse_dates=[\n",
    "        'date',\n",
    "    ]\n",
    ") if engine.has_table('RHR') else pd.DataFrame(columns=['date', 'value']).set_index('date')\n",
    "rhrDB"
   ]
  },
  {
   "cell_type": "code",
   "execution_count": null,
   "metadata": {},
   "outputs": [],
   "source": [
    "rhr = data[['RHR']]\n",
    "rhr.columns = ['value']\n",
    "pd.concat(\n",
    "    [\n",
    "        rhrDB[~rhrDB.index.isin(rhr.index)],\n",
    "        rhr\n",
    "    ],\n",
    "    axis=0,\n",
    "    join='inner'\n",
    ").to_sql('RHR', con=engine, if_exists='replace')"
   ]
  },
  {
   "cell_type": "markdown",
   "metadata": {},
   "source": [
    "### Steps"
   ]
  },
  {
   "cell_type": "code",
   "execution_count": null,
   "metadata": {},
   "outputs": [],
   "source": [
    "stepsDB = pd.read_sql_table(\n",
    "    'Steps',\n",
    "    con=engine,\n",
    "    index_col='date',\n",
    "    coerce_float=True,\n",
    "    columns=[\n",
    "        'date',\n",
    "        'Steps'\n",
    "    ],\n",
    "    parse_dates=[\n",
    "        'date',\n",
    "    ]\n",
    ") if engine.has_table('Steps') else pd.DataFrame(columns=['date', 'Steps']).set_index('date')\n",
    "stepsDB"
   ]
  },
  {
   "cell_type": "code",
   "execution_count": null,
   "metadata": {},
   "outputs": [],
   "source": [
    "steps = data[['Steps']]\n",
    "steps.columns = ['Steps']\n",
    "pd.concat(\n",
    "    [\n",
    "        stepsDB[~stepsDB.index.isin(steps.index)],\n",
    "        steps\n",
    "    ],\n",
    "    axis=0,\n",
    "    join='inner'\n",
    ").to_sql('Steps', con=engine, if_exists='replace')"
   ]
  },
  {
   "cell_type": "markdown",
   "metadata": {},
   "source": [
    "### Weight"
   ]
  },
  {
   "cell_type": "code",
   "execution_count": null,
   "metadata": {},
   "outputs": [],
   "source": [
    "weightDB = pd.read_sql_table(\n",
    "    'Weight',\n",
    "    con=engine,\n",
    "    index_col='date',\n",
    "    coerce_float=True,\n",
    "    columns=[\n",
    "        'date',\n",
    "        'Weight'\n",
    "    ],\n",
    "    parse_dates=[\n",
    "        'date',\n",
    "    ]\n",
    ") if engine.has_table('Weight') else pd.DataFrame(columns=['date', 'Weight']).set_index('date')\n",
    "weightDB"
   ]
  },
  {
   "cell_type": "code",
   "execution_count": null,
   "metadata": {},
   "outputs": [],
   "source": [
    "weight = data[['Weight']]\n",
    "weight.columns = ['Weight']\n",
    "pd.concat(\n",
    "    [\n",
    "        weightDB[~weightDB.index.isin(weight.index)],\n",
    "        weight\n",
    "    ],\n",
    "    axis=0,\n",
    "    join='inner'\n",
    ").to_sql('Weight', con=engine, if_exists='replace')"
   ]
  },
  {
   "cell_type": "code",
   "execution_count": null,
   "metadata": {},
   "outputs": [],
   "source": []
  }
 ],
 "metadata": {
  "kernelspec": {
   "display_name": "lifemetrics",
   "language": "python",
   "name": "lifemetrics"
  },
  "language_info": {
   "codemirror_mode": {
    "name": "ipython",
    "version": 3
   },
   "file_extension": ".py",
   "mimetype": "text/x-python",
   "name": "python",
   "nbconvert_exporter": "python",
   "pygments_lexer": "ipython3",
   "version": "3.7.7"
  }
 },
 "nbformat": 4,
 "nbformat_minor": 2
}
