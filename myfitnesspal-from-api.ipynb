{
 "cells": [
  {
   "cell_type": "code",
   "execution_count": null,
   "metadata": {},
   "outputs": [],
   "source": []
  },
  {
   "cell_type": "code",
   "execution_count": null,
   "metadata": {},
   "outputs": [],
   "source": [
    "!pip3 install -U python-dotenv"
   ]
  },
  {
   "cell_type": "code",
   "execution_count": null,
   "metadata": {},
   "outputs": [],
   "source": [
    "from dotenv import load_dotenv\n",
    "load_dotenv()"
   ]
  },
  {
   "cell_type": "code",
   "execution_count": null,
   "metadata": {},
   "outputs": [],
   "source": [
    "import datetime\n",
    "import os\n",
    "import requests\n",
    "\n",
    "import pandas as pd\n",
    "from sqlalchemy import create_engine"
   ]
  },
  {
   "cell_type": "markdown",
   "metadata": {},
   "source": [
    "## Connect to DB"
   ]
  },
  {
   "cell_type": "code",
   "execution_count": null,
   "metadata": {},
   "outputs": [],
   "source": [
    "engine = create_engine('sqlite:///db.sqlite', echo=False)"
   ]
  },
  {
   "cell_type": "markdown",
   "metadata": {},
   "source": [
    "## Get Existing Data"
   ]
  },
  {
   "cell_type": "code",
   "execution_count": null,
   "metadata": {},
   "outputs": [],
   "source": [
    "consumedCaloriesDB = pd.read_sql_table(\n",
    "    'ConsumedCalories',\n",
    "    con=engine,\n",
    "    index_col='Date',\n",
    "    coerce_float=True,\n",
    "    columns=[\n",
    "        'Calories',\n",
    "        'Fat (g)',\n",
    "        'Carbohydrates (g)',\n",
    "        'Protein (g)',\n",
    "    ],\n",
    "    parse_dates=[\n",
    "        'Date',\n",
    "    ]\n",
    ") if engine.has_table('ConsumedCalories') else pd.DataFrame(columns=['Date', 'Calories', 'Fat (g)', 'Carbohydrates (g)', 'Protein (g)']).set_index('Date')"
   ]
  },
  {
   "cell_type": "code",
   "execution_count": null,
   "metadata": {},
   "outputs": [],
   "source": [
    "exerciseSummaryDB = pd.read_sql_table(\n",
    "    'ExerciseSummary',\n",
    "    con=engine,\n",
    "    index_col='Date',\n",
    "    coerce_float=True,\n",
    "    columns=[\n",
    "        'Exercise Calories',\n",
    "        'Exercise Minutes'\n",
    "    ],\n",
    "    parse_dates=[\n",
    "        'Date',\n",
    "    ]\n",
    ") if engine.has_table('ExerciseSummary') else pd.DataFrame(columns=['Date', 'Exercise Calories', 'Exercise Minutes']).set_index('Date')"
   ]
  },
  {
   "cell_type": "markdown",
   "metadata": {},
   "source": [
    "## Merge with data from API"
   ]
  },
  {
   "cell_type": "code",
   "execution_count": null,
   "metadata": {},
   "outputs": [],
   "source": [
    "headers = {'cookie': os.getenv('MYFITNESSPAL_COOKIE')}\n",
    "\n",
    "def get_data(category, report_name, column_name=None):\n",
    "    data = pd.DataFrame(\n",
    "        requests.get(\n",
    "            f'https://www.myfitnesspal.com/reports/results/{category}/{report_name}/7.json',\n",
    "            headers=headers,\n",
    "            params={'report_name': report_name},\n",
    "        ).json()['data']\n",
    "    )\n",
    "    data.columns = ['Date', report_name if column_name is None else column_name]\n",
    "    return data"
   ]
  },
  {
   "cell_type": "code",
   "execution_count": null,
   "metadata": {},
   "outputs": [],
   "source": [
    "calories = get_data(category='nutrition', report_name='Calories', column_name='Calories')"
   ]
  },
  {
   "cell_type": "code",
   "execution_count": null,
   "metadata": {},
   "outputs": [],
   "source": [
    "carbs = get_data(category='nutrition', report_name='Carbs', column_name='Carbohydrates (g)')"
   ]
  },
  {
   "cell_type": "code",
   "execution_count": null,
   "metadata": {},
   "outputs": [],
   "source": [
    "fat = get_data(category='nutrition', report_name='Fat', column_name='Fat (g)')"
   ]
  },
  {
   "cell_type": "code",
   "execution_count": null,
   "metadata": {},
   "outputs": [],
   "source": [
    "protein = get_data(category='nutrition', report_name='Protein', column_name='Protein (g)')"
   ]
  },
  {
   "cell_type": "code",
   "execution_count": null,
   "metadata": {},
   "outputs": [],
   "source": [
    "exercise_min = get_data(category='fitness', report_name='Exercise Minutes', column_name='Exercise Minutes')"
   ]
  },
  {
   "cell_type": "code",
   "execution_count": null,
   "metadata": {},
   "outputs": [],
   "source": [
    "calories_burned = get_data(category='fitness', report_name='Calories Burned', column_name='Exercise Calories')"
   ]
  },
  {
   "cell_type": "code",
   "execution_count": null,
   "metadata": {},
   "outputs": [],
   "source": [
    "from functools import reduce\n",
    "dfs = [calories, carbs, fat, protein, exercise_min, calories_burned]\n",
    "data = reduce(lambda left, right: pd.merge(left, right, on='Date'), dfs)\n",
    "data['Date'] = pd.to_datetime(data['Date'].astype(str) + '/2020')\n",
    "data = data.set_index('Date')\n",
    "data"
   ]
  },
  {
   "cell_type": "code",
   "execution_count": null,
   "metadata": {},
   "outputs": [],
   "source": [
    "table1 = data[['Calories', 'Carbohydrates (g)', 'Fat (g)', 'Protein (g)']]\n",
    "pd.concat(\n",
    "    [\n",
    "        consumedCaloriesDB[~consumedCaloriesDB.index.isin(table1.index)],\n",
    "        table1\n",
    "    ],\n",
    "    axis=0,\n",
    "    join='inner'\n",
    ").to_sql('ConsumedCalories', con=engine, if_exists='replace')"
   ]
  },
  {
   "cell_type": "code",
   "execution_count": null,
   "metadata": {},
   "outputs": [],
   "source": [
    "table2 = data[['Exercise Calories', 'Exercise Minutes']]\n",
    "pd.concat(\n",
    "    [\n",
    "        exerciseSummaryDB[~exerciseSummaryDB.index.isin(table2.index)],\n",
    "        table2\n",
    "    ],\n",
    "    axis=0,\n",
    "    join='inner'\n",
    ").to_sql('ExerciseSummary', con=engine, if_exists='replace')"
   ]
  },
  {
   "cell_type": "code",
   "execution_count": null,
   "metadata": {},
   "outputs": [],
   "source": []
  }
 ],
 "metadata": {
  "kernelspec": {
   "display_name": "Python 3.7.5 64-bit",
   "language": "python",
   "name": "python37564bit1c5e8f5f6645458daa9d4b7d832e999e"
  },
  "language_info": {
   "codemirror_mode": {
    "name": "ipython",
    "version": 3
   },
   "file_extension": ".py",
   "mimetype": "text/x-python",
   "name": "python",
   "nbconvert_exporter": "python",
   "pygments_lexer": "ipython3",
   "version": "3.7.7-final"
  }
 },
 "nbformat": 4,
 "nbformat_minor": 2
}
